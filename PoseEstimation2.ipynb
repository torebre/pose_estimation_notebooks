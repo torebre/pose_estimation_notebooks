{
  "nbformat": 4,
  "nbformat_minor": 0,
  "metadata": {
    "colab": {
      "name": "PoseEstimation2.ipynb",
      "provenance": [],
      "collapsed_sections": []
    },
    "kernelspec": {
      "name": "python3",
      "display_name": "Python 3"
    },
    "language_info": {
      "name": "python"
    },
    "accelerator": "GPU"
  },
  "cells": [
    {
      "cell_type": "markdown",
      "metadata": {
        "id": "RCM1K4xYSatq"
      },
      "source": [
        "Set up custom dataset provider"
      ]
    },
    {
      "cell_type": "code",
      "metadata": {
        "id": "J993t5ezSStW"
      },
      "source": [
        "import torch\n",
        "from scipy.io import loadmat\n",
        "from torch.utils.data import Dataset\n",
        "\n",
        "\n",
        "class SVHN_dataset(Dataset):\n",
        "\n",
        "    def __init__(self, data):\n",
        "        self.data = data\n",
        "        images = torch.tensor(data['X']).permute([3, 2, 0, 1])\n",
        "        self.labels = torch.tensor(data['y'], dtype=torch.long)\n",
        "        self.size = self.labels.shape[0]\n",
        "\n",
        "        # Replace label 10 with label 0\n",
        "        for label in self.labels:\n",
        "            if label.item() == 10:\n",
        "                label[0] = 0\n",
        "\n",
        "        # Convert to float and normalize to [0, 1] range\n",
        "        self.normalized_images = [image.type(torch.FloatTensor) / 255 for image in images]\n",
        "        for image in self.normalized_images:\n",
        "            image.type(torch.FloatTensor)\n",
        "\n",
        "    def __len__(self):\n",
        "        return self.size\n",
        "\n",
        "    def __getitem__(self, idx):\n",
        "        return self.normalized_images[idx], self.labels[idx].item()\n",
        "\n"
      ],
      "execution_count": 3,
      "outputs": []
    },
    {
      "cell_type": "markdown",
      "metadata": {
        "id": "SNZ5Wm3sR_Uc"
      },
      "source": [
        "Load the data"
      ]
    },
    {
      "cell_type": "code",
      "metadata": {
        "colab": {
          "base_uri": "https://localhost:8080/"
        },
        "id": "36-y1QTmRtjz",
        "outputId": "976c5d9b-b4eb-4df5-8e7c-d70741f42ae6"
      },
      "source": [
        "from scipy.io import loadmat\n",
        "\n",
        "!wget http://ufldl.stanford.edu/housenumbers/train_32x32.mat\n",
        "!wget http://ufldl.stanford.edu/housenumbers/test_32x32.mat\n",
        "\n",
        "training_data = loadmat(\"train_32x32.mat\")\n",
        "training_dataset = SVHN_dataset(training_data)\n",
        "training_dataloader = torch.utils.data.DataLoader(training_dataset, batch_size=512, shuffle=True)\n",
        "\n",
        "test_data = loadmat(\"test_32x32.mat\")\n",
        "test_dataset = SVHN_dataset(test_data)\n",
        "test_dataloader = torch.utils.data.DataLoader(test_dataset, batch_size=1, shuffle=False)\n"
      ],
      "execution_count": 4,
      "outputs": [
        {
          "output_type": "stream",
          "text": [
            "--2021-08-07 15:49:06--  http://ufldl.stanford.edu/housenumbers/train_32x32.mat\n",
            "Resolving ufldl.stanford.edu (ufldl.stanford.edu)... 171.64.68.10\n",
            "Connecting to ufldl.stanford.edu (ufldl.stanford.edu)|171.64.68.10|:80... connected.\n",
            "HTTP request sent, awaiting response... 200 OK\n",
            "Length: 182040794 (174M) [text/plain]\n",
            "Saving to: ‘train_32x32.mat.2’\n",
            "\n",
            "train_32x32.mat.2   100%[===================>] 173.61M  85.9MB/s    in 2.0s    \n",
            "\n",
            "2021-08-07 15:49:08 (85.9 MB/s) - ‘train_32x32.mat.2’ saved [182040794/182040794]\n",
            "\n",
            "--2021-08-07 15:49:08--  http://ufldl.stanford.edu/housenumbers/test_32x32.mat\n",
            "Resolving ufldl.stanford.edu (ufldl.stanford.edu)... 171.64.68.10\n",
            "Connecting to ufldl.stanford.edu (ufldl.stanford.edu)|171.64.68.10|:80... connected.\n",
            "HTTP request sent, awaiting response... 200 OK\n",
            "Length: 64275384 (61M) [text/plain]\n",
            "Saving to: ‘test_32x32.mat.2’\n",
            "\n",
            "test_32x32.mat.2    100%[===================>]  61.30M  81.9MB/s    in 0.7s    \n",
            "\n",
            "2021-08-07 15:49:09 (81.9 MB/s) - ‘test_32x32.mat.2’ saved [64275384/64275384]\n",
            "\n"
          ],
          "name": "stdout"
        }
      ]
    },
    {
      "cell_type": "markdown",
      "metadata": {
        "id": "lC94smVESgqP"
      },
      "source": [
        "Define function for calculating accuracy"
      ]
    },
    {
      "cell_type": "code",
      "metadata": {
        "id": "TX65c0wbSEDV"
      },
      "source": [
        "def get_accuracy(model, dataloader):\n",
        "    model.eval()\n",
        "\n",
        "    correctly_classified = 0\n",
        "    number_of_images = len(dataloader)\n",
        "\n",
        "    for image, label in dataloader:\n",
        "        output = model(image.to(\"cuda\"))\n",
        "        prediction = torch.argmax(output)\n",
        "\n",
        "        if prediction.item() == label.item():\n",
        "            correctly_classified += 1\n",
        "\n",
        "    model.train()\n",
        "\n",
        "    return correctly_classified / number_of_images\n"
      ],
      "execution_count": 5,
      "outputs": []
    },
    {
      "cell_type": "markdown",
      "metadata": {
        "id": "8_idAIcZTi80"
      },
      "source": [
        "Define model"
      ]
    },
    {
      "cell_type": "code",
      "metadata": {
        "id": "Nd4l1g7rTd0L"
      },
      "source": [
        "import torch.nn as nn\n",
        "\n",
        "\n",
        "def get_model():\n",
        "    return nn.Sequential(\n",
        "        nn.Conv2d(stride=1, padding=2, kernel_size=5, in_channels=3, out_channels=6),\n",
        "        nn.BatchNorm2d(num_features=6),\n",
        "        nn.ReLU(),\n",
        "        nn.MaxPool2d(kernel_size=2, stride=2),\n",
        "\n",
        "        nn.Conv2d(kernel_size=3, stride=1, padding=1, out_channels=12, in_channels=6),\n",
        "        nn.BatchNorm2d(num_features=12),\n",
        "        nn.ReLU(),\n",
        "        nn.MaxPool2d(kernel_size=2, stride=2),\n",
        "\n",
        "        nn.Conv2d(kernel_size=3, out_channels=24, stride=1, padding=1, in_channels=12),\n",
        "        nn.BatchNorm2d(num_features=24),\n",
        "        nn.ReLU(),\n",
        "        nn.MaxPool2d(kernel_size=2, stride=2),\n",
        "\n",
        "        nn.Flatten(),\n",
        "        nn.Linear(in_features=24 * 4 * 4, out_features=10)\n",
        "    )\n"
      ],
      "execution_count": 6,
      "outputs": []
    },
    {
      "cell_type": "markdown",
      "metadata": {
        "id": "yujGCP2cSzac"
      },
      "source": [
        "Train the model"
      ]
    },
    {
      "cell_type": "code",
      "metadata": {
        "colab": {
          "base_uri": "https://localhost:8080/"
        },
        "id": "mpf8l6uDRQo5",
        "outputId": "0f9d91ae-be25-47a1-94bb-83aa4038c745"
      },
      "source": [
        "import torch\n",
        "\n",
        "from torch import optim\n",
        "\n",
        "model = get_model().to('cuda')\n",
        "\n",
        "learning_rate = 1e-3\n",
        "\n",
        "device = (torch.device('cuda') if torch.cuda.is_available()\n",
        "          else torch.device('cpu'))\n",
        "print(f\"Training on device {device}.\")\n",
        "\n",
        "optimizer = optim.Adam(model.parameters(), lr=learning_rate)\n",
        "loss_fn = nn.CrossEntropyLoss()\n",
        "\n",
        "n_epochs = 100\n",
        "\n",
        "\n",
        "for epoch in range(n_epochs):\n",
        "    for images, labels in training_dataloader:\n",
        "        batch_size = images.shape[0]\n",
        "        images, labels = images.to('cuda'), labels.to('cuda')\n",
        "\n",
        "        outputs = model(images)\n",
        "\n",
        "        loss = loss_fn(outputs, labels)\n",
        "\n",
        "        optimizer.zero_grad()\n",
        "        loss.backward()\n",
        "        optimizer.step()\n",
        "\n",
        "    print(\"Epoch: %d, Loss: %f\" % (epoch, float(loss)))\n",
        "\n",
        "    if epoch % 10 == 0:\n",
        "        accuracy = get_accuracy(model, test_dataloader)\n",
        "        print(f\"Accuracy:{accuracy}\")\n",
        "\n",
        "        if accuracy > 0.9:\n",
        "            break\n"
      ],
      "execution_count": 7,
      "outputs": [
        {
          "output_type": "stream",
          "text": [
            "Training on device cuda.\n"
          ],
          "name": "stdout"
        },
        {
          "output_type": "stream",
          "text": [
            "/usr/local/lib/python3.7/dist-packages/torch/nn/functional.py:718: UserWarning: Named tensors and all their associated APIs are an experimental feature and subject to change. Please do not use them for anything important until they are released as stable. (Triggered internally at  /pytorch/c10/core/TensorImpl.h:1156.)\n",
            "  return torch.max_pool2d(input, kernel_size, stride, padding, dilation, ceil_mode)\n"
          ],
          "name": "stderr"
        },
        {
          "output_type": "stream",
          "text": [
            "Epoch: 0, Loss: 0.901850\n",
            "Accuracy:0.7637907191149355\n",
            "Epoch: 1, Loss: 0.921785\n",
            "Epoch: 2, Loss: 0.794932\n",
            "Epoch: 3, Loss: 0.487384\n",
            "Epoch: 4, Loss: 0.384394\n",
            "Epoch: 5, Loss: 0.506934\n",
            "Epoch: 6, Loss: 0.247229\n",
            "Epoch: 7, Loss: 0.403344\n",
            "Epoch: 8, Loss: 0.346464\n",
            "Epoch: 9, Loss: 0.657572\n",
            "Epoch: 10, Loss: 0.830681\n",
            "Accuracy:0.8552166564228642\n",
            "Epoch: 11, Loss: 0.797756\n",
            "Epoch: 12, Loss: 0.410128\n",
            "Epoch: 13, Loss: 0.151268\n",
            "Epoch: 14, Loss: 0.251959\n",
            "Epoch: 15, Loss: 0.181019\n",
            "Epoch: 16, Loss: 0.359995\n",
            "Epoch: 17, Loss: 0.236962\n",
            "Epoch: 18, Loss: 0.241343\n",
            "Epoch: 19, Loss: 0.121585\n",
            "Epoch: 20, Loss: 0.202488\n",
            "Accuracy:0.8773432698217578\n",
            "Epoch: 21, Loss: 0.231255\n",
            "Epoch: 22, Loss: 0.318156\n",
            "Epoch: 23, Loss: 0.444947\n",
            "Epoch: 24, Loss: 0.292300\n",
            "Epoch: 25, Loss: 0.447368\n",
            "Epoch: 26, Loss: 0.305701\n",
            "Epoch: 27, Loss: 0.311373\n",
            "Epoch: 28, Loss: 0.281819\n",
            "Epoch: 29, Loss: 0.418111\n",
            "Epoch: 30, Loss: 0.359548\n",
            "Accuracy:0.8753073140749846\n",
            "Epoch: 31, Loss: 0.151140\n",
            "Epoch: 32, Loss: 0.213013\n",
            "Epoch: 33, Loss: 0.279368\n",
            "Epoch: 34, Loss: 0.298303\n",
            "Epoch: 35, Loss: 0.190922\n",
            "Epoch: 36, Loss: 0.151944\n",
            "Epoch: 37, Loss: 0.328397\n",
            "Epoch: 38, Loss: 0.297025\n",
            "Epoch: 39, Loss: 0.349156\n",
            "Epoch: 40, Loss: 0.279425\n",
            "Accuracy:0.8728488014751076\n",
            "Epoch: 41, Loss: 0.321275\n",
            "Epoch: 42, Loss: 0.356789\n",
            "Epoch: 43, Loss: 0.626531\n",
            "Epoch: 44, Loss: 0.229793\n",
            "Epoch: 45, Loss: 0.506050\n",
            "Epoch: 46, Loss: 0.325404\n",
            "Epoch: 47, Loss: 0.267294\n",
            "Epoch: 48, Loss: 0.227671\n",
            "Epoch: 49, Loss: 0.397234\n",
            "Epoch: 50, Loss: 0.241158\n",
            "Accuracy:0.874539028887523\n",
            "Epoch: 51, Loss: 0.238751\n",
            "Epoch: 52, Loss: 0.207820\n",
            "Epoch: 53, Loss: 0.110442\n",
            "Epoch: 54, Loss: 0.599089\n",
            "Epoch: 55, Loss: 0.253986\n",
            "Epoch: 56, Loss: 0.834329\n",
            "Epoch: 57, Loss: 0.293365\n",
            "Epoch: 58, Loss: 0.173058\n",
            "Epoch: 59, Loss: 0.214595\n",
            "Epoch: 60, Loss: 0.274859\n",
            "Accuracy:0.8804548248309773\n",
            "Epoch: 61, Loss: 0.293844\n",
            "Epoch: 62, Loss: 0.157650\n",
            "Epoch: 63, Loss: 0.284490\n",
            "Epoch: 64, Loss: 0.269184\n",
            "Epoch: 65, Loss: 0.180686\n",
            "Epoch: 66, Loss: 0.398708\n",
            "Epoch: 67, Loss: 0.291649\n",
            "Epoch: 68, Loss: 0.323499\n",
            "Epoch: 69, Loss: 0.252883\n",
            "Epoch: 70, Loss: 0.145815\n",
            "Accuracy:0.8823755377996312\n",
            "Epoch: 71, Loss: 0.053966\n",
            "Epoch: 72, Loss: 0.416903\n",
            "Epoch: 73, Loss: 0.198828\n",
            "Epoch: 74, Loss: 0.342492\n",
            "Epoch: 75, Loss: 0.100738\n",
            "Epoch: 76, Loss: 0.175070\n",
            "Epoch: 77, Loss: 0.364395\n",
            "Epoch: 78, Loss: 0.351159\n",
            "Epoch: 79, Loss: 0.138620\n",
            "Epoch: 80, Loss: 0.096576\n",
            "Accuracy:0.8811846957590658\n",
            "Epoch: 81, Loss: 0.129847\n",
            "Epoch: 82, Loss: 0.327853\n",
            "Epoch: 83, Loss: 0.313979\n",
            "Epoch: 84, Loss: 0.477034\n",
            "Epoch: 85, Loss: 0.439022\n",
            "Epoch: 86, Loss: 0.392245\n",
            "Epoch: 87, Loss: 0.450707\n",
            "Epoch: 88, Loss: 0.169360\n",
            "Epoch: 89, Loss: 0.213995\n",
            "Epoch: 90, Loss: 0.123972\n",
            "Accuracy:0.8833358942839582\n",
            "Epoch: 91, Loss: 0.142824\n",
            "Epoch: 92, Loss: 0.633541\n",
            "Epoch: 93, Loss: 0.390988\n",
            "Epoch: 94, Loss: 0.162310\n",
            "Epoch: 95, Loss: 0.551289\n",
            "Epoch: 96, Loss: 0.160513\n",
            "Epoch: 97, Loss: 0.141056\n",
            "Epoch: 98, Loss: 0.448892\n",
            "Epoch: 99, Loss: 0.395462\n"
          ],
          "name": "stdout"
        }
      ]
    },
    {
      "cell_type": "markdown",
      "metadata": {
        "id": "86a46VftWo5r"
      },
      "source": [
        "Compute the final accuracy"
      ]
    },
    {
      "cell_type": "code",
      "metadata": {
        "colab": {
          "base_uri": "https://localhost:8080/"
        },
        "id": "VmNsicHmT7EQ",
        "outputId": "4a3e108c-717e-445f-ab04-dd6732ad4819"
      },
      "source": [
        "accuracy = get_accuracy(model, test_dataloader)\n",
        "print(f\"Accuracy:{accuracy}\")"
      ],
      "execution_count": 8,
      "outputs": [
        {
          "output_type": "stream",
          "text": [
            "Accuracy:0.8854870928088506\n"
          ],
          "name": "stdout"
        }
      ]
    },
    {
      "cell_type": "markdown",
      "metadata": {
        "id": "GM-DmBzoT94R"
      },
      "source": [
        "Show some correctly classified images"
      ]
    },
    {
      "cell_type": "code",
      "metadata": {
        "colab": {
          "base_uri": "https://localhost:8080/",
          "height": 1000
        },
        "id": "tcDgvwJ1S34F",
        "outputId": "a2e75ca4-2fe4-4f31-b1ab-6dd2724a95c1"
      },
      "source": [
        "import random\n",
        "import matplotlib.pyplot as plt\n",
        "\n",
        "\n",
        "model.eval()\n",
        "\n",
        "correctly_classified = 0\n",
        "number_of_images = len(test_dataset)\n",
        "random.seed(1)\n",
        "\n",
        "while correctly_classified < 5:\n",
        "  image_number = random.randrange(number_of_images)\n",
        "  image, label = test_dataset[image_number]\n",
        "\n",
        "  output = model(torch.unsqueeze(image.to(\"cuda\"), 0))\n",
        "  prediction = torch.argmax(output)\n",
        "\n",
        "  if prediction.item() == label:\n",
        "    correctly_classified += 1\n",
        "\n",
        "    plt.imshow(test_dataset.data['X'][:, :, :, image_number])\n",
        "    plt.show()\n",
        "    print(f\"Digit label: {label}\")\n",
        "\n",
        "model.train()"
      ],
      "execution_count": 14,
      "outputs": [
        {
          "output_type": "display_data",
          "data": {
            "image/png": "[encoded data removed]",
            "text/plain": [
              "<Figure size 432x288 with 1 Axes>"
            ]
          },
          "metadata": {
            "tags": [],
            "needs_background": "light"
          }
        },
        {
          "output_type": "stream",
          "text": [
            "Digit label: 3\n"
          ],
          "name": "stdout"
        },
        {
          "output_type": "display_data",
          "data": {
            "image/png": "[encoded data removed]",
            "text/plain": [
              "<Figure size 432x288 with 1 Axes>"
            ]
          },
          "metadata": {
            "tags": [],
            "needs_background": "light"
          }
        },
        {
          "output_type": "stream",
          "text": [
            "Digit label: 5\n"
          ],
          "name": "stdout"
        },
        {
          "output_type": "display_data",
          "data": {
            "image/png": "[encoded data removed]",
            "text/plain": [
              "<Figure size 432x288 with 1 Axes>"
            ]
          },
          "metadata": {
            "tags": [],
            "needs_background": "light"
          }
        },
        {
          "output_type": "stream",
          "text": [
            "Digit label: 0\n"
          ],
          "name": "stdout"
        },
        {
          "output_type": "display_data",
          "data": {
            "image/png": "[encoded data removed]",
            "text/plain": [
              "<Figure size 432x288 with 1 Axes>"
            ]
          },
          "metadata": {
            "tags": [],
            "needs_background": "light"
          }
        },
        {
          "output_type": "stream",
          "text": [
            "Digit label: 7\n"
          ],
          "name": "stdout"
        },
        {
          "output_type": "display_data",
          "data": {
            "image/png": "[encoded data removed]",
            "text/plain": [
              "<Figure size 432x288 with 1 Axes>"
            ]
          },
          "metadata": {
            "tags": [],
            "needs_background": "light"
          }
        },
        {
          "output_type": "stream",
          "text": [
            "Digit label: 9\n"
          ],
          "name": "stdout"
        },
        {
          "output_type": "execute_result",
          "data": {
            "text/plain": [
              "Sequential(\n",
              "  (0): Conv2d(3, 6, kernel_size=(5, 5), stride=(1, 1), padding=(2, 2))\n",
              "  (1): BatchNorm2d(6, eps=1e-05, momentum=0.1, affine=True, track_running_stats=True)\n",
              "  (2): ReLU()\n",
              "  (3): MaxPool2d(kernel_size=2, stride=2, padding=0, dilation=1, ceil_mode=False)\n",
              "  (4): Conv2d(6, 12, kernel_size=(3, 3), stride=(1, 1), padding=(1, 1))\n",
              "  (5): BatchNorm2d(12, eps=1e-05, momentum=0.1, affine=True, track_running_stats=True)\n",
              "  (6): ReLU()\n",
              "  (7): MaxPool2d(kernel_size=2, stride=2, padding=0, dilation=1, ceil_mode=False)\n",
              "  (8): Conv2d(12, 24, kernel_size=(3, 3), stride=(1, 1), padding=(1, 1))\n",
              "  (9): BatchNorm2d(24, eps=1e-05, momentum=0.1, affine=True, track_running_stats=True)\n",
              "  (10): ReLU()\n",
              "  (11): MaxPool2d(kernel_size=2, stride=2, padding=0, dilation=1, ceil_mode=False)\n",
              "  (12): Flatten(start_dim=1, end_dim=-1)\n",
              "  (13): Linear(in_features=384, out_features=10, bias=True)\n",
              ")"
            ]
          },
          "metadata": {
            "tags": []
          },
          "execution_count": 14
        }
      ]
    }
  ]
}